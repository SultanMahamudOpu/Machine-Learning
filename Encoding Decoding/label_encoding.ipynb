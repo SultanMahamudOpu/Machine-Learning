{
 "cells": [
  {
   "cell_type": "markdown",
   "id": "05ec5d6f",
   "metadata": {},
   "source": [
    "# Label Encoder"
   ]
  },
  {
   "cell_type": "code",
   "execution_count": 12,
   "id": "558be9bf",
   "metadata": {},
   "outputs": [],
   "source": [
    "classes = ['classA','classB','classC','classD']\n",
    "instances=['classA','classB','classC','classD','classA','classB','classC','classD','classA','classB']"
   ]
  },
  {
   "cell_type": "code",
   "execution_count": 13,
   "id": "0afd92f5",
   "metadata": {},
   "outputs": [
    {
     "name": "stdout",
     "output_type": "stream",
     "text": [
      "Encoded labels:  [0, 1, 2, 3, 0, 1, 2, 3, 0, 1]\n"
     ]
    }
   ],
   "source": [
    "label_to_int={label:index for index,label in enumerate(classes)}\n",
    "encoded_labels=[label_to_int[label] for label in instances]\n",
    "\n",
    "print(\"Encoded labels: \",encoded_labels)"
   ]
  },
  {
   "cell_type": "code",
   "execution_count": 14,
   "id": "952236ee",
   "metadata": {},
   "outputs": [
    {
     "name": "stdout",
     "output_type": "stream",
     "text": [
      "Encoded labels:  [0, 1, 2, 3, 0, 1, 2, 3, 0, 1]\n",
      "Decoded labels:  ['classA', 'classB', 'classC', 'classD', 'classA', 'classB', 'classC', 'classD', 'classA', 'classB']\n"
     ]
    }
   ],
   "source": [
    "int_to_label={index:label for label,index in label_to_int.items()}\n",
    "decoded_labels=[int_to_label[index] for index in encoded_labels]\n",
    "\n",
    "print(\"Encoded labels: \",encoded_labels)\n",
    "print(\"Decoded labels: \",decoded_labels)"
   ]
  },
  {
   "cell_type": "markdown",
   "id": "ebd7f8f7",
   "metadata": {},
   "source": [
    "# Sklearn - Label Encoder"
   ]
  },
  {
   "cell_type": "code",
   "execution_count": 15,
   "id": "b61931e3",
   "metadata": {},
   "outputs": [],
   "source": [
    "from sklearn.preprocessing import LabelEncoder"
   ]
  },
  {
   "cell_type": "code",
   "execution_count": 16,
   "id": "5cd69b04",
   "metadata": {},
   "outputs": [
    {
     "name": "stdout",
     "output_type": "stream",
     "text": [
      "[0 1 2 3 0 1 2 3 0 1]\n"
     ]
    }
   ],
   "source": [
    "label_encoder=LabelEncoder()\n",
    "encoded_labels=label_encoder.fit_transform(instances)\n",
    "\n",
    "print(encoded_labels)"
   ]
  },
  {
   "cell_type": "code",
   "execution_count": 17,
   "id": "de2d5fab",
   "metadata": {},
   "outputs": [
    {
     "name": "stdout",
     "output_type": "stream",
     "text": [
      "Encoded labels:  [0 1 2 3 0 1 2 3 0 1]\n",
      "Original Labels:  ['classA' 'classB' 'classC' 'classD' 'classA' 'classB' 'classC' 'classD'\n",
      " 'classA' 'classB']\n"
     ]
    }
   ],
   "source": [
    "original_labels=label_encoder.inverse_transform(encoded_labels)\n",
    "\n",
    "print('Encoded labels: ',encoded_labels)\n",
    "print('Original Labels: ',original_labels)"
   ]
  }
 ],
 "metadata": {
  "kernelspec": {
   "display_name": ".venv",
   "language": "python",
   "name": "python3"
  },
  "language_info": {
   "codemirror_mode": {
    "name": "ipython",
    "version": 3
   },
   "file_extension": ".py",
   "mimetype": "text/x-python",
   "name": "python",
   "nbconvert_exporter": "python",
   "pygments_lexer": "ipython3",
   "version": "3.13.4"
  }
 },
 "nbformat": 4,
 "nbformat_minor": 5
}
