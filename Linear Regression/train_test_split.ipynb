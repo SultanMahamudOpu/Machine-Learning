{
 "cells": [
  {
   "cell_type": "markdown",
   "id": "64bfb39b",
   "metadata": {},
   "source": [
    "# Train Test"
   ]
  },
  {
   "cell_type": "code",
   "execution_count": 5,
   "id": "82ba9553",
   "metadata": {},
   "outputs": [],
   "source": [
    "import pandas as pd\n",
    "from sklearn.datasets import make_classification\n",
    "from sklearn.model_selection import train_test_split"
   ]
  },
  {
   "cell_type": "markdown",
   "id": "9df9b1d2",
   "metadata": {},
   "source": [
    "## Create a synthetic dataset for demonstration"
   ]
  },
  {
   "cell_type": "code",
   "execution_count": 7,
   "id": "db227269",
   "metadata": {},
   "outputs": [],
   "source": [
    "X,y=make_classification(n_samples=1000,n_features=10,n_classes=2,random_state=1)"
   ]
  },
  {
   "cell_type": "markdown",
   "id": "ee09d8ec",
   "metadata": {},
   "source": [
    "# Split the dataset into training and testing sets (80-20 split)"
   ]
  },
  {
   "cell_type": "code",
   "execution_count": 13,
   "id": "2b8f1309",
   "metadata": {},
   "outputs": [],
   "source": [
    "# train,test=train_test_split(df,test_size=0.30,random_state=42)\n",
    "X_train,X_test,y_train,y_test=train_test_split(X,y,test_size=0.30,random_state=1)"
   ]
  },
  {
   "cell_type": "code",
   "execution_count": 14,
   "id": "5c2eaaa2",
   "metadata": {},
   "outputs": [
    {
     "data": {
      "text/plain": [
       "array([[ 1.48829065, -2.10561639,  0.44173351, ..., -1.03111252,\n",
       "         0.35026682,  0.1847476 ],\n",
       "       [-1.75714143, -0.81391586, -0.78245291, ..., -1.14168096,\n",
       "        -1.01500282,  1.07154926],\n",
       "       [-0.63586326, -1.21522542, -1.06027382, ..., -0.76815848,\n",
       "         0.26068848,  0.50031952],\n",
       "       ...,\n",
       "       [-0.79905141,  0.23223348, -1.37175136, ..., -1.44026512,\n",
       "         0.03447448, -0.33548058],\n",
       "       [-0.70308218,  0.2756734 ,  0.78799635, ...,  0.53188154,\n",
       "         0.11443758, -0.82692529],\n",
       "       [ 0.88650532, -0.63260211,  2.00213202, ...,  1.85691531,\n",
       "         0.13705826, -0.44617634]], shape=(700, 10))"
      ]
     },
     "execution_count": 14,
     "metadata": {},
     "output_type": "execute_result"
    }
   ],
   "source": [
    "X_train"
   ]
  },
  {
   "cell_type": "code",
   "execution_count": 16,
   "id": "dfd712f1",
   "metadata": {},
   "outputs": [
    {
     "data": {
      "text/plain": [
       "(700, 10)"
      ]
     },
     "execution_count": 16,
     "metadata": {},
     "output_type": "execute_result"
    }
   ],
   "source": [
    "X_train.shape"
   ]
  },
  {
   "cell_type": "code",
   "execution_count": 17,
   "id": "ed3be66f",
   "metadata": {},
   "outputs": [
    {
     "data": {
      "text/plain": [
       "(300, 10)"
      ]
     },
     "execution_count": 17,
     "metadata": {},
     "output_type": "execute_result"
    }
   ],
   "source": [
    "X_test.shape"
   ]
  }
 ],
 "metadata": {
  "kernelspec": {
   "display_name": ".venv",
   "language": "python",
   "name": "python3"
  },
  "language_info": {
   "codemirror_mode": {
    "name": "ipython",
    "version": 3
   },
   "file_extension": ".py",
   "mimetype": "text/x-python",
   "name": "python",
   "nbconvert_exporter": "python",
   "pygments_lexer": "ipython3",
   "version": "3.13.4"
  }
 },
 "nbformat": 4,
 "nbformat_minor": 5
}
